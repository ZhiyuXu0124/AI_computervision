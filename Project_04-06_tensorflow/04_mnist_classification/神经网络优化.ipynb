{
 "cells": [
  {
   "cell_type": "code",
   "execution_count": 2,
   "metadata": {},
   "outputs": [],
   "source": [
    "import tensorflow as tf\n",
    "from tensorflow.examples.tutorials.mnist import input_data"
   ]
  },
  {
   "cell_type": "code",
   "execution_count": 4,
   "metadata": {},
   "outputs": [
    {
     "name": "stdout",
     "output_type": "stream",
     "text": [
      "Extracting MNIST_data\\train-images-idx3-ubyte.gz\n",
      "Extracting MNIST_data\\train-labels-idx1-ubyte.gz\n",
      "Extracting MNIST_data\\t10k-images-idx3-ubyte.gz\n",
      "Extracting MNIST_data\\t10k-labels-idx1-ubyte.gz\n"
     ]
    }
   ],
   "source": [
    "# 载入数据集\n",
    "mnist = input_data.read_data_sets(\"MNIST_data\",one_hot=True)"
   ]
  },
  {
   "cell_type": "code",
   "execution_count": 8,
   "metadata": {},
   "outputs": [],
   "source": [
    "# 每个批次的大小\n",
    "batch_size = 128\n",
    "# 计算一共有多少个批次\n",
    "n_batch = mnist.train.num_examples // batch_size"
   ]
  },
  {
   "cell_type": "code",
   "execution_count": 10,
   "metadata": {},
   "outputs": [],
   "source": [
    "# 定义三个placeholder\n",
    "x = tf.placeholder(tf.float32,[None,784])\n",
    "y = tf.placeholder(tf.float32,[None,10])\n",
    "keep_prob=tf.placeholder(tf.float32)\n",
    "\n",
    "lr = tf.Variable(0.003, dtype=tf.float32)"
   ]
  },
  {
   "cell_type": "code",
   "execution_count": 12,
   "metadata": {},
   "outputs": [],
   "source": [
    "# 784-500-300-100-10\n",
    "# 创建一个神经网络\n",
    "W1 = tf.Variable(tf.truncated_normal([784,500],stddev=0.1))\n",
    "b1 = tf.Variable(tf.zeros([500])+0.1)\n",
    "L1 = tf.nn.tanh(tf.matmul(x,W1)+b1)\n",
    "L1_drop = tf.nn.dropout(L1,rate = 1-keep_prob) \n",
    "\n",
    "W2 = tf.Variable(tf.truncated_normal([500,300],stddev=0.1))\n",
    "b2 = tf.Variable(tf.zeros([300])+0.1)\n",
    "L2 = tf.nn.tanh(tf.matmul(L1_drop,W2)+b2)\n",
    "L2_drop = tf.nn.dropout(L2,rate = 1-keep_prob) \n",
    "\n",
    "W3 = tf.Variable(tf.truncated_normal([300,100],stddev=0.1))\n",
    "b3 = tf.Variable(tf.zeros([100])+0.1)\n",
    "L3 = tf.nn.tanh(tf.matmul(L2_drop,W3)+b3)\n",
    "L3_drop = tf.nn.dropout(L3,rate = 1-keep_prob) \n",
    "\n",
    "W4 = tf.Variable(tf.truncated_normal([100,10],stddev=0.1))\n",
    "b4 = tf.Variable(tf.zeros([10])+0.1)\n",
    "prediction = tf.nn.softmax(tf.matmul(L3_drop,W4)+b4)"
   ]
  },
  {
   "cell_type": "code",
   "execution_count": 13,
   "metadata": {},
   "outputs": [],
   "source": [
    "# 交叉熵代价函数\n",
    "loss = tf.losses.softmax_cross_entropy(y,prediction)\n",
    "# 训练\n",
    "train_step = tf.train.AdamOptimizer(lr).minimize(loss)\n",
    "\n",
    "# 初始化变量\n",
    "init = tf.global_variables_initializer()\n",
    "\n",
    "# 结果存放在一个布尔型列表中\n",
    "correct_prediction = tf.equal(tf.argmax(y,1),tf.argmax(prediction,1))#argmax返回一维张量中最大的值所在的位置\n",
    "# 求准确率\n",
    "accuracy = tf.reduce_mean(tf.cast(correct_prediction,tf.float32))"
   ]
  },
  {
   "cell_type": "code",
   "execution_count": 16,
   "metadata": {},
   "outputs": [
    {
     "name": "stdout",
     "output_type": "stream",
     "text": [
      "Iter 0, Testing Accuracy= 0.9521, Learning Rate= 0.0009\n",
      "Iter 1, Testing Accuracy= 0.9602, Learning Rate= 0.0009\n",
      "Iter 2, Testing Accuracy= 0.9671, Learning Rate= 0.0009\n",
      "Iter 3, Testing Accuracy= 0.9682, Learning Rate= 0.0009\n",
      "Iter 4, Testing Accuracy= 0.9687, Learning Rate= 0.0009\n",
      "Iter 5, Testing Accuracy= 0.97, Learning Rate= 0.0009\n",
      "Iter 6, Testing Accuracy= 0.9709, Learning Rate= 0.0009\n",
      "Iter 7, Testing Accuracy= 0.9753, Learning Rate= 0.0009\n",
      "Iter 8, Testing Accuracy= 0.9734, Learning Rate= 0.0009\n",
      "Iter 9, Testing Accuracy= 0.9759, Learning Rate= 0.0009\n",
      "Iter 10, Testing Accuracy= 0.9798, Learning Rate= 0.00027\n",
      "Iter 11, Testing Accuracy= 0.98, Learning Rate= 0.00027\n",
      "Iter 12, Testing Accuracy= 0.9785, Learning Rate= 0.00027\n",
      "Iter 13, Testing Accuracy= 0.9811, Learning Rate= 0.00027\n",
      "Iter 14, Testing Accuracy= 0.9811, Learning Rate= 0.00027\n",
      "Iter 15, Testing Accuracy= 0.981, Learning Rate= 0.00027\n",
      "Iter 16, Testing Accuracy= 0.9801, Learning Rate= 0.00027\n",
      "Iter 17, Testing Accuracy= 0.98, Learning Rate= 0.00027\n",
      "Iter 18, Testing Accuracy= 0.9813, Learning Rate= 0.00027\n",
      "Iter 19, Testing Accuracy= 0.9807, Learning Rate= 0.00027\n",
      "Iter 20, Testing Accuracy= 0.9812, Learning Rate= 8.1e-05\n",
      "Iter 21, Testing Accuracy= 0.9808, Learning Rate= 8.1e-05\n",
      "Iter 22, Testing Accuracy= 0.9812, Learning Rate= 8.1e-05\n",
      "Iter 23, Testing Accuracy= 0.9812, Learning Rate= 8.1e-05\n",
      "Iter 24, Testing Accuracy= 0.9812, Learning Rate= 8.1e-05\n",
      "Iter 25, Testing Accuracy= 0.9811, Learning Rate= 8.1e-05\n",
      "Iter 26, Testing Accuracy= 0.9812, Learning Rate= 8.1e-05\n",
      "Iter 27, Testing Accuracy= 0.981, Learning Rate= 8.1e-05\n",
      "Iter 28, Testing Accuracy= 0.9817, Learning Rate= 8.1e-05\n",
      "Iter 29, Testing Accuracy= 0.9819, Learning Rate= 8.1e-05\n",
      "Iter 30, Testing Accuracy= 0.9818, Learning Rate= 2.43e-05\n",
      "Iter 31, Testing Accuracy= 0.9818, Learning Rate= 2.43e-05\n",
      "Iter 32, Testing Accuracy= 0.9815, Learning Rate= 2.43e-05\n",
      "Iter 33, Testing Accuracy= 0.9814, Learning Rate= 2.43e-05\n",
      "Iter 34, Testing Accuracy= 0.9816, Learning Rate= 2.43e-05\n",
      "Iter 35, Testing Accuracy= 0.9816, Learning Rate= 2.43e-05\n",
      "Iter 36, Testing Accuracy= 0.9819, Learning Rate= 2.43e-05\n",
      "Iter 37, Testing Accuracy= 0.9818, Learning Rate= 2.43e-05\n",
      "Iter 38, Testing Accuracy= 0.9819, Learning Rate= 2.43e-05\n",
      "Iter 39, Testing Accuracy= 0.9817, Learning Rate= 2.43e-05\n",
      "Iter 40, Testing Accuracy= 0.9819, Learning Rate= 7.2899998e-06\n"
     ]
    }
   ],
   "source": [
    "with tf.Session() as sess:\n",
    "    sess.run(init)\n",
    "    for epoch in range(41):\n",
    "        if epoch%10==0:\n",
    "            sess.run(tf.assign(lr, sess.run(lr) * 0.3))\n",
    "        for batch in range(n_batch):\n",
    "            batch_xs,batch_ys =  mnist.train.next_batch(batch_size)\n",
    "            sess.run(train_step,feed_dict={x:batch_xs,y:batch_ys,keep_prob:1.0})\n",
    "        \n",
    "        learning_rate = sess.run(lr)\n",
    "        acc = sess.run(accuracy,feed_dict={x:mnist.test.images,y:mnist.test.labels,keep_prob:1.0})\n",
    "        print (\"Iter \" + str(epoch) + \", Testing Accuracy= \" + str(acc) + \", Learning Rate= \" + str(learning_rate))"
   ]
  }
 ],
 "metadata": {
  "hide_input": false,
  "kernelspec": {
   "display_name": "Python 3",
   "language": "python",
   "name": "python3"
  },
  "language_info": {
   "codemirror_mode": {
    "name": "ipython",
    "version": 3
   },
   "file_extension": ".py",
   "mimetype": "text/x-python",
   "name": "python",
   "nbconvert_exporter": "python",
   "pygments_lexer": "ipython3",
   "version": "3.7.0"
  },
  "toc": {
   "base_numbering": 1,
   "nav_menu": {},
   "number_sections": true,
   "sideBar": true,
   "skip_h1_title": false,
   "title_cell": "Table of Contents",
   "title_sidebar": "Contents",
   "toc_cell": false,
   "toc_position": {},
   "toc_section_display": true,
   "toc_window_display": false
  },
  "varInspector": {
   "cols": {
    "lenName": 16,
    "lenType": 16,
    "lenVar": 40
   },
   "kernels_config": {
    "python": {
     "delete_cmd_postfix": "",
     "delete_cmd_prefix": "del ",
     "library": "var_list.py",
     "varRefreshCmd": "print(var_dic_list())"
    },
    "r": {
     "delete_cmd_postfix": ") ",
     "delete_cmd_prefix": "rm(",
     "library": "var_list.r",
     "varRefreshCmd": "cat(var_dic_list()) "
    }
   },
   "types_to_exclude": [
    "module",
    "function",
    "builtin_function_or_method",
    "instance",
    "_Feature"
   ],
   "window_display": false
  }
 },
 "nbformat": 4,
 "nbformat_minor": 2
}
